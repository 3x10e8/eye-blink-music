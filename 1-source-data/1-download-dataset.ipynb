{
 "cells": [
  {
   "attachments": {},
   "cell_type": "markdown",
   "id": "af928529",
   "metadata": {},
   "source": [
    "# Download Music Imagery Dataset\n",
    "The imagery dataset can be downloaded from:\n",
    "- [Dryad](https://datadryad.org/stash/dataset/doi:10.5061/dryad.dbrv15f0j) or from \n",
    "- the [CNSP workshop's resources](https://cnspworkshop.net/resources.html)\n",
    "\n",
    "The dataset is the same between these two sources, but the formatting between dryad and CNSP is different.\n",
    "\n",
    "The CNSP dataset is formatted as continuous-event Neural Data data format (see [documentation](https://cnsp-resources.readthedocs.io/en/latest/cndPage.html)), and should include a channel map.\n",
    "\n",
    "Here we download the CNSP workshop version of the dataset:"
   ]
  },
  {
   "cell_type": "code",
   "execution_count": 1,
   "id": "9c6f216b",
   "metadata": {},
   "outputs": [
    {
     "name": "stdout",
     "output_type": "stream",
     "text": [
      "/local_disk/abhinav/eeg-blinks-music/1-source-data\n"
     ]
    }
   ],
   "source": [
    "!pwd"
   ]
  },
  {
   "cell_type": "code",
   "execution_count": 2,
   "id": "d166f7f0",
   "metadata": {
    "scrolled": false
   },
   "outputs": [
    {
     "name": "stdout",
     "output_type": "stream",
     "text": [
      "--2025-08-18 16:36:13--  https://www.data.cnspworkshop.net/data/datasetCND_musicImagery.zip\n",
      "Resolving www.data.cnspworkshop.net (www.data.cnspworkshop.net)... 92.222.139.190, 2001:41d0:301:3::28\n",
      "Connecting to www.data.cnspworkshop.net (www.data.cnspworkshop.net)|92.222.139.190|:443... failed: Connection timed out.\n",
      "Connecting to www.data.cnspworkshop.net (www.data.cnspworkshop.net)|2001:41d0:301:3::28|:443... failed: Network is unreachable.\n"
     ]
    }
   ],
   "source": [
    "# Download the data as a zip file in current directory \n",
    "\n",
    "if 1: # set to 1 to attempt downloading the dataset from CNSP server (may not work on university campus WiFi)\n",
    "    !wget https://www.data.cnspworkshop.net/data/datasetCND_musicImagery.zip -O datasetCND_musicImagery.zip"
   ]
  },
  {
   "attachments": {},
   "cell_type": "markdown",
   "id": "694236dd",
   "metadata": {},
   "source": [
    "If the above link is unreachable (possibly on a protected/school network), please try connecting from a different network.\n",
    "\n",
    "If issues persist, please contact auppal [AT] ucsd [DOT] edu for setting up a clone, or the original authors of the dataset."
   ]
  },
  {
   "attachments": {},
   "cell_type": "markdown",
   "id": "9cdec9bf",
   "metadata": {},
   "source": [
    "Unzip the data:"
   ]
  },
  {
   "cell_type": "code",
   "execution_count": null,
   "id": "aed32994",
   "metadata": {},
   "outputs": [
    {
     "name": "stdout",
     "output_type": "stream",
     "text": [
      "Archive:  data/datasetCND_musicImagery.zip\n",
      "  End-of-central-directory signature not found.  Either this file is not\n",
      "  a zipfile, or it constitutes one disk of a multi-part archive.  In the\n",
      "  latter case the central directory and zipfile comment will be found on\n",
      "  the last disk(s) of this archive.\n",
      "unzip:  cannot find zipfile directory in one of data/datasetCND_musicImagery.zip or\n",
      "        data/datasetCND_musicImagery.zip.zip, and cannot find data/datasetCND_musicImagery.zip.ZIP, period.\n"
     ]
    }
   ],
   "source": [
    "if 1:\n",
    "    !unzip datasetCND_musicImagery.zip -d datasetCND_musicImagery"
   ]
  },
  {
   "attachments": {},
   "cell_type": "markdown",
   "id": "b3a865b5",
   "metadata": {},
   "source": [
    "Make a list of all the files in the dataset:"
   ]
  },
  {
   "cell_type": "code",
   "execution_count": 5,
   "id": "ba2d7209",
   "metadata": {},
   "outputs": [
    {
     "name": "stdout",
     "output_type": "stream",
     "text": [
      "datasetCND_musicImagery/\n",
      "datasetCND_musicImagery/LICENSE\n",
      "datasetCND_musicImagery/dataCND\n",
      "datasetCND_musicImagery/dataCND/dataStim.mat\n",
      "datasetCND_musicImagery/dataCND/dataSub1.mat\n",
      "datasetCND_musicImagery/dataCND/dataSub10.mat\n",
      "datasetCND_musicImagery/dataCND/dataSub11.mat\n",
      "datasetCND_musicImagery/dataCND/dataSub12.mat\n",
      "datasetCND_musicImagery/dataCND/dataSub13.mat\n",
      "datasetCND_musicImagery/dataCND/dataSub14.mat\n",
      "datasetCND_musicImagery/dataCND/dataSub15.mat\n",
      "datasetCND_musicImagery/dataCND/dataSub16.mat\n",
      "datasetCND_musicImagery/dataCND/dataSub17.mat\n",
      "datasetCND_musicImagery/dataCND/dataSub18.mat\n",
      "datasetCND_musicImagery/dataCND/dataSub19.mat\n",
      "datasetCND_musicImagery/dataCND/dataSub2.mat\n",
      "datasetCND_musicImagery/dataCND/dataSub20.mat\n",
      "datasetCND_musicImagery/dataCND/dataSub21.mat\n",
      "datasetCND_musicImagery/dataCND/dataSub3.mat\n",
      "datasetCND_musicImagery/dataCND/dataSub4.mat\n",
      "datasetCND_musicImagery/dataCND/dataSub5.mat\n",
      "datasetCND_musicImagery/dataCND/dataSub6.mat\n",
      "datasetCND_musicImagery/dataCND/dataSub7.mat\n",
      "datasetCND_musicImagery/dataCND/dataSub8.mat\n",
      "datasetCND_musicImagery/dataCND/dataSub9.mat\n",
      "datasetCND_musicImagery/readme.txt\n",
      "datasetCND_musicImagery/stimuli\n",
      "datasetCND_musicImagery/stimuli/audio\n",
      "datasetCND_musicImagery/stimuli/audio/chor-019.wav\n",
      "datasetCND_musicImagery/stimuli/audio/chor-038.wav\n",
      "datasetCND_musicImagery/stimuli/audio/chor-096.wav\n",
      "datasetCND_musicImagery/stimuli/audio/chor-101.wav\n",
      "datasetCND_musicImagery/stimuli/midi\n",
      "datasetCND_musicImagery/stimuli/midi/Score.pdf\n",
      "datasetCND_musicImagery/stimuli/midi/chor-019.mid\n",
      "datasetCND_musicImagery/stimuli/midi/chor-038.mid\n",
      "datasetCND_musicImagery/stimuli/midi/chor-096.mid\n",
      "datasetCND_musicImagery/stimuli/midi/chor-101.mid\n"
     ]
    }
   ],
   "source": [
    "from glob import glob\n",
    "datafiles = glob('datasetCND_musicImagery/**', recursive=True)\n",
    "for filename in datafiles:\n",
    "    print(filename)"
   ]
  }
 ],
 "metadata": {
  "kernelspec": {
   "display_name": ".venv",
   "language": "python",
   "name": "python3"
  },
  "language_info": {
   "codemirror_mode": {
    "name": "ipython",
    "version": 3
   },
   "file_extension": ".py",
   "mimetype": "text/x-python",
   "name": "python",
   "nbconvert_exporter": "python",
   "pygments_lexer": "ipython3",
   "version": "3.12.3"
  }
 },
 "nbformat": 4,
 "nbformat_minor": 5
}
